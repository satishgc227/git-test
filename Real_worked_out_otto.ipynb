{
  "cells": [
    {
      "cell_type": "markdown",
      "metadata": {
        "id": "view-in-github",
        "colab_type": "text"
      },
      "source": [
        "<a href=\"https://colab.research.google.com/github/satishgc227/git-test/blob/master/Real_worked_out_otto.ipynb\" target=\"_parent\"><img src=\"https://colab.research.google.com/assets/colab-badge.svg\" alt=\"Open In Colab\"/></a>"
      ]
    },
    {
      "cell_type": "code",
      "execution_count": 60,
      "metadata": {
        "id": "2W9cLVxPSFbZ"
      },
      "outputs": [],
      "source": [
        "import numpy as np\n",
        "import pandas as pd\n",
        "import matplotlib.pyplot as plt\n",
        "import seaborn as sns\n",
        "\n",
        "import sys"
      ]
    },
    {
      "cell_type": "code",
      "execution_count": 61,
      "metadata": {
        "id": "3udDrXyXSRXR"
      },
      "outputs": [],
      "source": [
        "df=pd.read_csv(\"/content/traian csv.csv\")"
      ]
    },
    {
      "cell_type": "code",
      "execution_count": 62,
      "metadata": {
        "colab": {
          "base_uri": "https://localhost:8080/",
          "height": 424
        },
        "id": "-071qyU7SUB6",
        "outputId": "eb918918-103a-4204-c9de-1c638a049bf4"
      },
      "outputs": [
        {
          "output_type": "execute_result",
          "data": {
            "text/plain": [
              "         session      aid            ts    type\n",
              "0        8000000   766953  1.660420e+12  clicks\n",
              "1        8000000  1586093  1.660420e+12  clicks\n",
              "2        8000000  1586093  1.660420e+12  clicks\n",
              "3        8000000   682970  1.660420e+12  clicks\n",
              "4        8000000   799794  1.660420e+12  clicks\n",
              "...          ...      ...           ...     ...\n",
              "1048570  8089703   911487  1.660460e+12  clicks\n",
              "1048571  8089703   911487  1.660460e+12   carts\n",
              "1048572  8089703   413885  1.660460e+12  clicks\n",
              "1048573  8089703   911487  1.660460e+12  clicks\n",
              "1048574  8089703   334668  1.660460e+12  clicks\n",
              "\n",
              "[1048575 rows x 4 columns]"
            ],
            "text/html": [
              "\n",
              "  <div id=\"df-1a43f16b-e286-45c0-85f9-db2a36bf1bfa\">\n",
              "    <div class=\"colab-df-container\">\n",
              "      <div>\n",
              "<style scoped>\n",
              "    .dataframe tbody tr th:only-of-type {\n",
              "        vertical-align: middle;\n",
              "    }\n",
              "\n",
              "    .dataframe tbody tr th {\n",
              "        vertical-align: top;\n",
              "    }\n",
              "\n",
              "    .dataframe thead th {\n",
              "        text-align: right;\n",
              "    }\n",
              "</style>\n",
              "<table border=\"1\" class=\"dataframe\">\n",
              "  <thead>\n",
              "    <tr style=\"text-align: right;\">\n",
              "      <th></th>\n",
              "      <th>session</th>\n",
              "      <th>aid</th>\n",
              "      <th>ts</th>\n",
              "      <th>type</th>\n",
              "    </tr>\n",
              "  </thead>\n",
              "  <tbody>\n",
              "    <tr>\n",
              "      <th>0</th>\n",
              "      <td>8000000</td>\n",
              "      <td>766953</td>\n",
              "      <td>1.660420e+12</td>\n",
              "      <td>clicks</td>\n",
              "    </tr>\n",
              "    <tr>\n",
              "      <th>1</th>\n",
              "      <td>8000000</td>\n",
              "      <td>1586093</td>\n",
              "      <td>1.660420e+12</td>\n",
              "      <td>clicks</td>\n",
              "    </tr>\n",
              "    <tr>\n",
              "      <th>2</th>\n",
              "      <td>8000000</td>\n",
              "      <td>1586093</td>\n",
              "      <td>1.660420e+12</td>\n",
              "      <td>clicks</td>\n",
              "    </tr>\n",
              "    <tr>\n",
              "      <th>3</th>\n",
              "      <td>8000000</td>\n",
              "      <td>682970</td>\n",
              "      <td>1.660420e+12</td>\n",
              "      <td>clicks</td>\n",
              "    </tr>\n",
              "    <tr>\n",
              "      <th>4</th>\n",
              "      <td>8000000</td>\n",
              "      <td>799794</td>\n",
              "      <td>1.660420e+12</td>\n",
              "      <td>clicks</td>\n",
              "    </tr>\n",
              "    <tr>\n",
              "      <th>...</th>\n",
              "      <td>...</td>\n",
              "      <td>...</td>\n",
              "      <td>...</td>\n",
              "      <td>...</td>\n",
              "    </tr>\n",
              "    <tr>\n",
              "      <th>1048570</th>\n",
              "      <td>8089703</td>\n",
              "      <td>911487</td>\n",
              "      <td>1.660460e+12</td>\n",
              "      <td>clicks</td>\n",
              "    </tr>\n",
              "    <tr>\n",
              "      <th>1048571</th>\n",
              "      <td>8089703</td>\n",
              "      <td>911487</td>\n",
              "      <td>1.660460e+12</td>\n",
              "      <td>carts</td>\n",
              "    </tr>\n",
              "    <tr>\n",
              "      <th>1048572</th>\n",
              "      <td>8089703</td>\n",
              "      <td>413885</td>\n",
              "      <td>1.660460e+12</td>\n",
              "      <td>clicks</td>\n",
              "    </tr>\n",
              "    <tr>\n",
              "      <th>1048573</th>\n",
              "      <td>8089703</td>\n",
              "      <td>911487</td>\n",
              "      <td>1.660460e+12</td>\n",
              "      <td>clicks</td>\n",
              "    </tr>\n",
              "    <tr>\n",
              "      <th>1048574</th>\n",
              "      <td>8089703</td>\n",
              "      <td>334668</td>\n",
              "      <td>1.660460e+12</td>\n",
              "      <td>clicks</td>\n",
              "    </tr>\n",
              "  </tbody>\n",
              "</table>\n",
              "<p>1048575 rows × 4 columns</p>\n",
              "</div>\n",
              "      <button class=\"colab-df-convert\" onclick=\"convertToInteractive('df-1a43f16b-e286-45c0-85f9-db2a36bf1bfa')\"\n",
              "              title=\"Convert this dataframe to an interactive table.\"\n",
              "              style=\"display:none;\">\n",
              "        \n",
              "  <svg xmlns=\"http://www.w3.org/2000/svg\" height=\"24px\"viewBox=\"0 0 24 24\"\n",
              "       width=\"24px\">\n",
              "    <path d=\"M0 0h24v24H0V0z\" fill=\"none\"/>\n",
              "    <path d=\"M18.56 5.44l.94 2.06.94-2.06 2.06-.94-2.06-.94-.94-2.06-.94 2.06-2.06.94zm-11 1L8.5 8.5l.94-2.06 2.06-.94-2.06-.94L8.5 2.5l-.94 2.06-2.06.94zm10 10l.94 2.06.94-2.06 2.06-.94-2.06-.94-.94-2.06-.94 2.06-2.06.94z\"/><path d=\"M17.41 7.96l-1.37-1.37c-.4-.4-.92-.59-1.43-.59-.52 0-1.04.2-1.43.59L10.3 9.45l-7.72 7.72c-.78.78-.78 2.05 0 2.83L4 21.41c.39.39.9.59 1.41.59.51 0 1.02-.2 1.41-.59l7.78-7.78 2.81-2.81c.8-.78.8-2.07 0-2.86zM5.41 20L4 18.59l7.72-7.72 1.47 1.35L5.41 20z\"/>\n",
              "  </svg>\n",
              "      </button>\n",
              "      \n",
              "  <style>\n",
              "    .colab-df-container {\n",
              "      display:flex;\n",
              "      flex-wrap:wrap;\n",
              "      gap: 12px;\n",
              "    }\n",
              "\n",
              "    .colab-df-convert {\n",
              "      background-color: #E8F0FE;\n",
              "      border: none;\n",
              "      border-radius: 50%;\n",
              "      cursor: pointer;\n",
              "      display: none;\n",
              "      fill: #1967D2;\n",
              "      height: 32px;\n",
              "      padding: 0 0 0 0;\n",
              "      width: 32px;\n",
              "    }\n",
              "\n",
              "    .colab-df-convert:hover {\n",
              "      background-color: #E2EBFA;\n",
              "      box-shadow: 0px 1px 2px rgba(60, 64, 67, 0.3), 0px 1px 3px 1px rgba(60, 64, 67, 0.15);\n",
              "      fill: #174EA6;\n",
              "    }\n",
              "\n",
              "    [theme=dark] .colab-df-convert {\n",
              "      background-color: #3B4455;\n",
              "      fill: #D2E3FC;\n",
              "    }\n",
              "\n",
              "    [theme=dark] .colab-df-convert:hover {\n",
              "      background-color: #434B5C;\n",
              "      box-shadow: 0px 1px 3px 1px rgba(0, 0, 0, 0.15);\n",
              "      filter: drop-shadow(0px 1px 2px rgba(0, 0, 0, 0.3));\n",
              "      fill: #FFFFFF;\n",
              "    }\n",
              "  </style>\n",
              "\n",
              "      <script>\n",
              "        const buttonEl =\n",
              "          document.querySelector('#df-1a43f16b-e286-45c0-85f9-db2a36bf1bfa button.colab-df-convert');\n",
              "        buttonEl.style.display =\n",
              "          google.colab.kernel.accessAllowed ? 'block' : 'none';\n",
              "\n",
              "        async function convertToInteractive(key) {\n",
              "          const element = document.querySelector('#df-1a43f16b-e286-45c0-85f9-db2a36bf1bfa');\n",
              "          const dataTable =\n",
              "            await google.colab.kernel.invokeFunction('convertToInteractive',\n",
              "                                                     [key], {});\n",
              "          if (!dataTable) return;\n",
              "\n",
              "          const docLinkHtml = 'Like what you see? Visit the ' +\n",
              "            '<a target=\"_blank\" href=https://colab.research.google.com/notebooks/data_table.ipynb>data table notebook</a>'\n",
              "            + ' to learn more about interactive tables.';\n",
              "          element.innerHTML = '';\n",
              "          dataTable['output_type'] = 'display_data';\n",
              "          await google.colab.output.renderOutput(dataTable, element);\n",
              "          const docLink = document.createElement('div');\n",
              "          docLink.innerHTML = docLinkHtml;\n",
              "          element.appendChild(docLink);\n",
              "        }\n",
              "      </script>\n",
              "    </div>\n",
              "  </div>\n",
              "  "
            ]
          },
          "metadata": {},
          "execution_count": 62
        }
      ],
      "source": [
        "df.dropna()"
      ]
    },
    {
      "cell_type": "code",
      "source": [
        "df.replace({'clicks':0,'carts':1,'orders':2},inplace=True)"
      ],
      "metadata": {
        "id": "xAOQuw74F1sd"
      },
      "execution_count": 63,
      "outputs": []
    },
    {
      "cell_type": "code",
      "source": [
        "df.dropna()"
      ],
      "metadata": {
        "colab": {
          "base_uri": "https://localhost:8080/",
          "height": 424
        },
        "id": "pSjYNx3lF420",
        "outputId": "5d598830-780c-405f-e6b0-f9a44f05ef65"
      },
      "execution_count": 64,
      "outputs": [
        {
          "output_type": "execute_result",
          "data": {
            "text/plain": [
              "         session      aid            ts  type\n",
              "0        8000000   766953  1.660420e+12     0\n",
              "1        8000000  1586093  1.660420e+12     0\n",
              "2        8000000  1586093  1.660420e+12     0\n",
              "3        8000000   682970  1.660420e+12     0\n",
              "4        8000000   799794  1.660420e+12     0\n",
              "...          ...      ...           ...   ...\n",
              "1048570  8089703   911487  1.660460e+12     0\n",
              "1048571  8089703   911487  1.660460e+12     1\n",
              "1048572  8089703   413885  1.660460e+12     0\n",
              "1048573  8089703   911487  1.660460e+12     0\n",
              "1048574  8089703   334668  1.660460e+12     0\n",
              "\n",
              "[1048575 rows x 4 columns]"
            ],
            "text/html": [
              "\n",
              "  <div id=\"df-cbbf9e18-99c7-45ee-bb01-1a516eccb89f\">\n",
              "    <div class=\"colab-df-container\">\n",
              "      <div>\n",
              "<style scoped>\n",
              "    .dataframe tbody tr th:only-of-type {\n",
              "        vertical-align: middle;\n",
              "    }\n",
              "\n",
              "    .dataframe tbody tr th {\n",
              "        vertical-align: top;\n",
              "    }\n",
              "\n",
              "    .dataframe thead th {\n",
              "        text-align: right;\n",
              "    }\n",
              "</style>\n",
              "<table border=\"1\" class=\"dataframe\">\n",
              "  <thead>\n",
              "    <tr style=\"text-align: right;\">\n",
              "      <th></th>\n",
              "      <th>session</th>\n",
              "      <th>aid</th>\n",
              "      <th>ts</th>\n",
              "      <th>type</th>\n",
              "    </tr>\n",
              "  </thead>\n",
              "  <tbody>\n",
              "    <tr>\n",
              "      <th>0</th>\n",
              "      <td>8000000</td>\n",
              "      <td>766953</td>\n",
              "      <td>1.660420e+12</td>\n",
              "      <td>0</td>\n",
              "    </tr>\n",
              "    <tr>\n",
              "      <th>1</th>\n",
              "      <td>8000000</td>\n",
              "      <td>1586093</td>\n",
              "      <td>1.660420e+12</td>\n",
              "      <td>0</td>\n",
              "    </tr>\n",
              "    <tr>\n",
              "      <th>2</th>\n",
              "      <td>8000000</td>\n",
              "      <td>1586093</td>\n",
              "      <td>1.660420e+12</td>\n",
              "      <td>0</td>\n",
              "    </tr>\n",
              "    <tr>\n",
              "      <th>3</th>\n",
              "      <td>8000000</td>\n",
              "      <td>682970</td>\n",
              "      <td>1.660420e+12</td>\n",
              "      <td>0</td>\n",
              "    </tr>\n",
              "    <tr>\n",
              "      <th>4</th>\n",
              "      <td>8000000</td>\n",
              "      <td>799794</td>\n",
              "      <td>1.660420e+12</td>\n",
              "      <td>0</td>\n",
              "    </tr>\n",
              "    <tr>\n",
              "      <th>...</th>\n",
              "      <td>...</td>\n",
              "      <td>...</td>\n",
              "      <td>...</td>\n",
              "      <td>...</td>\n",
              "    </tr>\n",
              "    <tr>\n",
              "      <th>1048570</th>\n",
              "      <td>8089703</td>\n",
              "      <td>911487</td>\n",
              "      <td>1.660460e+12</td>\n",
              "      <td>0</td>\n",
              "    </tr>\n",
              "    <tr>\n",
              "      <th>1048571</th>\n",
              "      <td>8089703</td>\n",
              "      <td>911487</td>\n",
              "      <td>1.660460e+12</td>\n",
              "      <td>1</td>\n",
              "    </tr>\n",
              "    <tr>\n",
              "      <th>1048572</th>\n",
              "      <td>8089703</td>\n",
              "      <td>413885</td>\n",
              "      <td>1.660460e+12</td>\n",
              "      <td>0</td>\n",
              "    </tr>\n",
              "    <tr>\n",
              "      <th>1048573</th>\n",
              "      <td>8089703</td>\n",
              "      <td>911487</td>\n",
              "      <td>1.660460e+12</td>\n",
              "      <td>0</td>\n",
              "    </tr>\n",
              "    <tr>\n",
              "      <th>1048574</th>\n",
              "      <td>8089703</td>\n",
              "      <td>334668</td>\n",
              "      <td>1.660460e+12</td>\n",
              "      <td>0</td>\n",
              "    </tr>\n",
              "  </tbody>\n",
              "</table>\n",
              "<p>1048575 rows × 4 columns</p>\n",
              "</div>\n",
              "      <button class=\"colab-df-convert\" onclick=\"convertToInteractive('df-cbbf9e18-99c7-45ee-bb01-1a516eccb89f')\"\n",
              "              title=\"Convert this dataframe to an interactive table.\"\n",
              "              style=\"display:none;\">\n",
              "        \n",
              "  <svg xmlns=\"http://www.w3.org/2000/svg\" height=\"24px\"viewBox=\"0 0 24 24\"\n",
              "       width=\"24px\">\n",
              "    <path d=\"M0 0h24v24H0V0z\" fill=\"none\"/>\n",
              "    <path d=\"M18.56 5.44l.94 2.06.94-2.06 2.06-.94-2.06-.94-.94-2.06-.94 2.06-2.06.94zm-11 1L8.5 8.5l.94-2.06 2.06-.94-2.06-.94L8.5 2.5l-.94 2.06-2.06.94zm10 10l.94 2.06.94-2.06 2.06-.94-2.06-.94-.94-2.06-.94 2.06-2.06.94z\"/><path d=\"M17.41 7.96l-1.37-1.37c-.4-.4-.92-.59-1.43-.59-.52 0-1.04.2-1.43.59L10.3 9.45l-7.72 7.72c-.78.78-.78 2.05 0 2.83L4 21.41c.39.39.9.59 1.41.59.51 0 1.02-.2 1.41-.59l7.78-7.78 2.81-2.81c.8-.78.8-2.07 0-2.86zM5.41 20L4 18.59l7.72-7.72 1.47 1.35L5.41 20z\"/>\n",
              "  </svg>\n",
              "      </button>\n",
              "      \n",
              "  <style>\n",
              "    .colab-df-container {\n",
              "      display:flex;\n",
              "      flex-wrap:wrap;\n",
              "      gap: 12px;\n",
              "    }\n",
              "\n",
              "    .colab-df-convert {\n",
              "      background-color: #E8F0FE;\n",
              "      border: none;\n",
              "      border-radius: 50%;\n",
              "      cursor: pointer;\n",
              "      display: none;\n",
              "      fill: #1967D2;\n",
              "      height: 32px;\n",
              "      padding: 0 0 0 0;\n",
              "      width: 32px;\n",
              "    }\n",
              "\n",
              "    .colab-df-convert:hover {\n",
              "      background-color: #E2EBFA;\n",
              "      box-shadow: 0px 1px 2px rgba(60, 64, 67, 0.3), 0px 1px 3px 1px rgba(60, 64, 67, 0.15);\n",
              "      fill: #174EA6;\n",
              "    }\n",
              "\n",
              "    [theme=dark] .colab-df-convert {\n",
              "      background-color: #3B4455;\n",
              "      fill: #D2E3FC;\n",
              "    }\n",
              "\n",
              "    [theme=dark] .colab-df-convert:hover {\n",
              "      background-color: #434B5C;\n",
              "      box-shadow: 0px 1px 3px 1px rgba(0, 0, 0, 0.15);\n",
              "      filter: drop-shadow(0px 1px 2px rgba(0, 0, 0, 0.3));\n",
              "      fill: #FFFFFF;\n",
              "    }\n",
              "  </style>\n",
              "\n",
              "      <script>\n",
              "        const buttonEl =\n",
              "          document.querySelector('#df-cbbf9e18-99c7-45ee-bb01-1a516eccb89f button.colab-df-convert');\n",
              "        buttonEl.style.display =\n",
              "          google.colab.kernel.accessAllowed ? 'block' : 'none';\n",
              "\n",
              "        async function convertToInteractive(key) {\n",
              "          const element = document.querySelector('#df-cbbf9e18-99c7-45ee-bb01-1a516eccb89f');\n",
              "          const dataTable =\n",
              "            await google.colab.kernel.invokeFunction('convertToInteractive',\n",
              "                                                     [key], {});\n",
              "          if (!dataTable) return;\n",
              "\n",
              "          const docLinkHtml = 'Like what you see? Visit the ' +\n",
              "            '<a target=\"_blank\" href=https://colab.research.google.com/notebooks/data_table.ipynb>data table notebook</a>'\n",
              "            + ' to learn more about interactive tables.';\n",
              "          element.innerHTML = '';\n",
              "          dataTable['output_type'] = 'display_data';\n",
              "          await google.colab.output.renderOutput(dataTable, element);\n",
              "          const docLink = document.createElement('div');\n",
              "          docLink.innerHTML = docLinkHtml;\n",
              "          element.appendChild(docLink);\n",
              "        }\n",
              "      </script>\n",
              "    </div>\n",
              "  </div>\n",
              "  "
            ]
          },
          "metadata": {},
          "execution_count": 64
        }
      ]
    },
    {
      "cell_type": "code",
      "source": [
        "df=df[['session','type','aid']]"
      ],
      "metadata": {
        "id": "IAqPLlY7H09k"
      },
      "execution_count": 65,
      "outputs": []
    },
    {
      "cell_type": "code",
      "source": [],
      "metadata": {
        "id": "NMpPCIqIfSqI"
      },
      "execution_count": null,
      "outputs": []
    },
    {
      "cell_type": "code",
      "source": [
        "users = df.session.unique()\n",
        "movies = df.type.unique()\n",
        "\n",
        "userid2idx = {o:i for i,o in enumerate(users)}\n",
        "movieid2idx = {o:i for i,o in enumerate(movies)}"
      ],
      "metadata": {
        "id": "bW19gAgYIxik"
      },
      "execution_count": 66,
      "outputs": []
    },
    {
      "cell_type": "code",
      "source": [
        "df['session'] = df['session'].apply(lambda x: userid2idx[x])\n",
        "df['type'] = df['type'].apply(lambda x: movieid2idx[x])\n",
        "split = np.random.rand(len(df)) < 0.8\n",
        "train = df[split]\n",
        "valid = df[~split]\n",
        "print(train.shape , valid.shape)"
      ],
      "metadata": {
        "colab": {
          "base_uri": "https://localhost:8080/"
        },
        "id": "M5DCHdk0I4nZ",
        "outputId": "37a2a167-919e-4c7b-ecdc-5ea881b9278f"
      },
      "execution_count": 67,
      "outputs": [
        {
          "output_type": "stream",
          "name": "stdout",
          "text": [
            "(839080, 3) (209495, 3)\n"
          ]
        }
      ]
    },
    {
      "cell_type": "code",
      "source": [
        "#Creating an embedding layer for session\n",
        "import keras\n",
        "from keras.models import load_model\n",
        "from sklearn.model_selection import train_test_split\n",
        "from keras.layers import Input, Embedding, Flatten, Dot, Dense, Concatenate\n",
        "from keras.models import Model\n"
      ],
      "metadata": {
        "id": "yc_BRB1-GMRs"
      },
      "execution_count": 68,
      "outputs": []
    },
    {
      "cell_type": "code",
      "source": [
        "n_session=len(df['session'].unique())\n",
        "n_type=len(df['type'].unique())\n",
        "\n",
        "n_latent_factors=10"
      ],
      "metadata": {
        "id": "UTlQP12FGROz"
      },
      "execution_count": 69,
      "outputs": []
    },
    {
      "cell_type": "code",
      "source": [
        "session_input=Input(shape=(1,),name='session_input')\n",
        "session_embedding=Embedding(n_session,n_latent_factors,name='session_embedding')(session_input)\n",
        "session_vec=Flatten(name='session_flatten')(session_embedding)"
      ],
      "metadata": {
        "id": "W7-aheB1GXES"
      },
      "execution_count": 70,
      "outputs": []
    },
    {
      "cell_type": "code",
      "source": [
        "type_input=Input(shape=(1,),name='type_input')\n",
        "type_embedding=Embedding(n_type,n_latent_factors,name='type_embedding')(type_input)\n",
        "type_vec=Flatten(name='type_flatten')(type_embedding)"
      ],
      "metadata": {
        "id": "7D4kyVUcGXp4"
      },
      "execution_count": 71,
      "outputs": []
    },
    {
      "cell_type": "code",
      "source": [
        "from keras.layers import dot"
      ],
      "metadata": {
        "id": "mg3wLNq2GaLR"
      },
      "execution_count": 72,
      "outputs": []
    },
    {
      "cell_type": "code",
      "source": [
        "sim=dot([session_vec,type_vec],name='Simalarity-Dot-Product',axes=1)\n",
        "from keras.layers import Dropout, Flatten,Activation,Input,Embedding"
      ],
      "metadata": {
        "id": "SHb08JqdGck3"
      },
      "execution_count": 73,
      "outputs": []
    },
    {
      "cell_type": "code",
      "source": [
        "model =keras.models.Model([session_input, type_input],sim)"
      ],
      "metadata": {
        "id": "1r7-w97xK-R3"
      },
      "execution_count": 74,
      "outputs": []
    },
    {
      "cell_type": "code",
      "source": [
        "model.compile(optimizer=Adam(lr=1e-4),loss='mse')"
      ],
      "metadata": {
        "id": "L6sFu5CFKrRX"
      },
      "execution_count": 85,
      "outputs": []
    },
    {
      "cell_type": "code",
      "source": [
        "train.shape\n",
        "batch_size=10000\n",
        "epochs=10"
      ],
      "metadata": {
        "id": "4RGNl43ZKraG"
      },
      "execution_count": 76,
      "outputs": []
    },
    {
      "cell_type": "code",
      "source": [
        "History = nn_model.fit([train.session,train.type],train.aid, batch_size=batch_size,\n",
        "                              epochs =epochs, validation_data = ([valid.session,valid.type],valid.aid),\n",
        "                              verbose = 1)"
      ],
      "metadata": {
        "colab": {
          "base_uri": "https://localhost:8080/"
        },
        "id": "QdMolU3QKrbb",
        "outputId": "adfc40bb-c2a3-47d7-f286-24bd5434bb8e"
      },
      "execution_count": 77,
      "outputs": [
        {
          "output_type": "stream",
          "name": "stdout",
          "text": [
            "Epoch 1/10\n",
            "84/84 [==============================] - 3s 35ms/step - loss: 283368521728.0000 - val_loss: 276259373056.0000\n",
            "Epoch 2/10\n",
            "84/84 [==============================] - 3s 34ms/step - loss: 280177410048.0000 - val_loss: 276054900736.0000\n",
            "Epoch 3/10\n",
            "84/84 [==============================] - 3s 35ms/step - loss: 277349924864.0000 - val_loss: 275961970688.0000\n",
            "Epoch 4/10\n",
            "84/84 [==============================] - 4s 42ms/step - loss: 275122585600.0000 - val_loss: 275951157248.0000\n",
            "Epoch 5/10\n",
            "84/84 [==============================] - 5s 63ms/step - loss: 272922902528.0000 - val_loss: 276000473088.0000\n",
            "Epoch 6/10\n",
            "84/84 [==============================] - 6s 69ms/step - loss: 270669594624.0000 - val_loss: 276107722752.0000\n",
            "Epoch 7/10\n",
            "84/84 [==============================] - 5s 65ms/step - loss: 269107298304.0000 - val_loss: 276267433984.0000\n",
            "Epoch 8/10\n",
            "84/84 [==============================] - 4s 53ms/step - loss: 267354521600.0000 - val_loss: 276460863488.0000\n",
            "Epoch 9/10\n",
            "84/84 [==============================] - 3s 34ms/step - loss: 265772498944.0000 - val_loss: 276663009280.0000\n",
            "Epoch 10/10\n",
            "84/84 [==============================] - 5s 58ms/step - loss: 264539308032.0000 - val_loss: 276906082304.0000\n"
          ]
        }
      ]
    },
    {
      "cell_type": "code",
      "source": [],
      "metadata": {
        "id": "yP_viWnjKrgX"
      },
      "execution_count": 77,
      "outputs": []
    },
    {
      "cell_type": "code",
      "source": [
        "nn_inp=Dense(96,activation='relu')(sim)\n",
        "nn_inp=Dropout(0.4)(nn_inp)\n",
        "# nn_inp=BatchNormalization()(nn_inp)\n",
        "nn_inp=Dense(1,activation='relu')(nn_inp)\n",
        "nn_model =keras.models.Model([session_input, type_input],nn_inp)\n",
        "nn_model.summary()"
      ],
      "metadata": {
        "colab": {
          "base_uri": "https://localhost:8080/"
        },
        "id": "gLPI6GTpGfGd",
        "outputId": "2853ff06-d4a6-42f9-f1b2-247f9908051b"
      },
      "execution_count": 78,
      "outputs": [
        {
          "output_type": "stream",
          "name": "stdout",
          "text": [
            "Model: \"model_6\"\n",
            "__________________________________________________________________________________________________\n",
            " Layer (type)                   Output Shape         Param #     Connected to                     \n",
            "==================================================================================================\n",
            " session_input (InputLayer)     [(None, 1)]          0           []                               \n",
            "                                                                                                  \n",
            " type_input (InputLayer)        [(None, 1)]          0           []                               \n",
            "                                                                                                  \n",
            " session_embedding (Embedding)  (None, 1, 10)        897040      ['session_input[0][0]']          \n",
            "                                                                                                  \n",
            " type_embedding (Embedding)     (None, 1, 10)        30          ['type_input[0][0]']             \n",
            "                                                                                                  \n",
            " session_flatten (Flatten)      (None, 10)           0           ['session_embedding[0][0]']      \n",
            "                                                                                                  \n",
            " type_flatten (Flatten)         (None, 10)           0           ['type_embedding[0][0]']         \n",
            "                                                                                                  \n",
            " Simalarity-Dot-Product (Dot)   (None, 1)            0           ['session_flatten[0][0]',        \n",
            "                                                                  'type_flatten[0][0]']           \n",
            "                                                                                                  \n",
            " dense_6 (Dense)                (None, 96)           192         ['Simalarity-Dot-Product[0][0]'] \n",
            "                                                                                                  \n",
            " dropout_3 (Dropout)            (None, 96)           0           ['dense_6[0][0]']                \n",
            "                                                                                                  \n",
            " dense_7 (Dense)                (None, 1)            97          ['dropout_3[0][0]']              \n",
            "                                                                                                  \n",
            "==================================================================================================\n",
            "Total params: 897,359\n",
            "Trainable params: 897,359\n",
            "Non-trainable params: 0\n",
            "__________________________________________________________________________________________________\n"
          ]
        }
      ]
    },
    {
      "cell_type": "code",
      "source": [
        "from keras.optimizers import Adam,SGD,Adagrad,Adadelta,RMSprop"
      ],
      "metadata": {
        "id": "utFw_t2vHEQx"
      },
      "execution_count": 79,
      "outputs": []
    },
    {
      "cell_type": "code",
      "source": [
        "nn_model.compile(optimizer=Adam(lr=1e-3),loss='mse')"
      ],
      "metadata": {
        "id": "xbxufgk4Go_z"
      },
      "execution_count": 80,
      "outputs": []
    },
    {
      "cell_type": "code",
      "source": [
        "batch_size=10000\n",
        "epochs=10"
      ],
      "metadata": {
        "id": "TGIiWF9KG9b7"
      },
      "execution_count": 81,
      "outputs": []
    },
    {
      "cell_type": "code",
      "source": [
        "History = nn_model.fit([train.session,train.type],train.aid, batch_size=batch_size,\n",
        "                              epochs =epochs, validation_data = ([valid.session,valid.type],valid.aid),\n",
        "                              verbose = 1)"
      ],
      "metadata": {
        "colab": {
          "base_uri": "https://localhost:8080/"
        },
        "id": "XScEINSnKCNA",
        "outputId": "fe2a015d-7dff-4209-c524-e369a89b496d"
      },
      "execution_count": 82,
      "outputs": [
        {
          "output_type": "stream",
          "name": "stdout",
          "text": [
            "Epoch 1/20\n",
            "84/84 [==============================] - 4s 36ms/step - loss: 1153037369344.0000 - val_loss: 1155439788032.0000\n",
            "Epoch 2/20\n",
            "84/84 [==============================] - 3s 34ms/step - loss: 1153032781824.0000 - val_loss: 1155431792640.0000\n",
            "Epoch 3/20\n",
            "84/84 [==============================] - 3s 35ms/step - loss: 1153016528896.0000 - val_loss: 1155404529664.0000\n",
            "Epoch 4/20\n",
            "84/84 [==============================] - 3s 34ms/step - loss: 1152969342976.0000 - val_loss: 1155333095424.0000\n",
            "Epoch 5/20\n",
            "84/84 [==============================] - 3s 35ms/step - loss: 1152858324992.0000 - val_loss: 1155179347968.0000\n",
            "Epoch 6/20\n",
            "84/84 [==============================] - 3s 35ms/step - loss: 1152639172608.0000 - val_loss: 1154895446016.0000\n",
            "Epoch 7/20\n",
            "84/84 [==============================] - 3s 35ms/step - loss: 1152257622016.0000 - val_loss: 1154423717888.0000\n",
            "Epoch 8/20\n",
            "84/84 [==============================] - 3s 34ms/step - loss: 1151651020800.0000 - val_loss: 1153700986880.0000\n",
            "Epoch 9/20\n",
            "84/84 [==============================] - 3s 38ms/step - loss: 1150751473664.0000 - val_loss: 1152659488768.0000\n",
            "Epoch 10/20\n",
            "84/84 [==============================] - 3s 41ms/step - loss: 1149488332800.0000 - val_loss: 1151227265024.0000\n",
            "Epoch 11/20\n",
            "84/84 [==============================] - 3s 35ms/step - loss: 1147782299648.0000 - val_loss: 1149329997824.0000\n",
            "Epoch 12/20\n",
            "84/84 [==============================] - 3s 34ms/step - loss: 1145562333184.0000 - val_loss: 1146895466496.0000\n",
            "Epoch 13/20\n",
            "84/84 [==============================] - 3s 35ms/step - loss: 1142748217344.0000 - val_loss: 1143847780352.0000\n",
            "Epoch 14/20\n",
            "84/84 [==============================] - 3s 34ms/step - loss: 1139259867136.0000 - val_loss: 1140112883712.0000\n",
            "Epoch 15/20\n",
            "84/84 [==============================] - 3s 35ms/step - loss: 1135040790528.0000 - val_loss: 1135624716288.0000\n",
            "Epoch 16/20\n",
            "84/84 [==============================] - 3s 34ms/step - loss: 1130005004288.0000 - val_loss: 1130314858496.0000\n",
            "Epoch 17/20\n",
            "84/84 [==============================] - 3s 35ms/step - loss: 1124084088832.0000 - val_loss: 1124116463616.0000\n",
            "Epoch 18/20\n",
            "84/84 [==============================] - 3s 34ms/step - loss: 1117237542912.0000 - val_loss: 1116985622528.0000\n",
            "Epoch 19/20\n",
            "84/84 [==============================] - 3s 35ms/step - loss: 1109369946112.0000 - val_loss: 1108855881728.0000\n",
            "Epoch 20/20\n",
            "84/84 [==============================] - 3s 33ms/step - loss: 1100468715520.0000 - val_loss: 1099687395328.0000\n"
          ]
        }
      ]
    },
    {
      "cell_type": "code",
      "source": [
        "nn_model.predict()"
      ],
      "metadata": {
        "colab": {
          "base_uri": "https://localhost:8080/",
          "height": 424
        },
        "id": "MiS2hTe0HwDJ",
        "outputId": "439b464e-2c66-4fe9-a5ce-d7153417864e"
      },
      "execution_count": 83,
      "outputs": [
        {
          "output_type": "execute_result",
          "data": {
            "text/plain": [
              "         session  type      aid\n",
              "0              0     0   766953\n",
              "1              0     0  1586093\n",
              "2              0     0  1586093\n",
              "3              0     0   682970\n",
              "4              0     0   799794\n",
              "...          ...   ...      ...\n",
              "1048570    89703     0   911487\n",
              "1048571    89703     1   911487\n",
              "1048572    89703     0   413885\n",
              "1048573    89703     0   911487\n",
              "1048574    89703     0   334668\n",
              "\n",
              "[1048575 rows x 3 columns]"
            ],
            "text/html": [
              "\n",
              "  <div id=\"df-19551f5c-1f95-491e-810e-0f0fe62e9a43\">\n",
              "    <div class=\"colab-df-container\">\n",
              "      <div>\n",
              "<style scoped>\n",
              "    .dataframe tbody tr th:only-of-type {\n",
              "        vertical-align: middle;\n",
              "    }\n",
              "\n",
              "    .dataframe tbody tr th {\n",
              "        vertical-align: top;\n",
              "    }\n",
              "\n",
              "    .dataframe thead th {\n",
              "        text-align: right;\n",
              "    }\n",
              "</style>\n",
              "<table border=\"1\" class=\"dataframe\">\n",
              "  <thead>\n",
              "    <tr style=\"text-align: right;\">\n",
              "      <th></th>\n",
              "      <th>session</th>\n",
              "      <th>type</th>\n",
              "      <th>aid</th>\n",
              "    </tr>\n",
              "  </thead>\n",
              "  <tbody>\n",
              "    <tr>\n",
              "      <th>0</th>\n",
              "      <td>0</td>\n",
              "      <td>0</td>\n",
              "      <td>766953</td>\n",
              "    </tr>\n",
              "    <tr>\n",
              "      <th>1</th>\n",
              "      <td>0</td>\n",
              "      <td>0</td>\n",
              "      <td>1586093</td>\n",
              "    </tr>\n",
              "    <tr>\n",
              "      <th>2</th>\n",
              "      <td>0</td>\n",
              "      <td>0</td>\n",
              "      <td>1586093</td>\n",
              "    </tr>\n",
              "    <tr>\n",
              "      <th>3</th>\n",
              "      <td>0</td>\n",
              "      <td>0</td>\n",
              "      <td>682970</td>\n",
              "    </tr>\n",
              "    <tr>\n",
              "      <th>4</th>\n",
              "      <td>0</td>\n",
              "      <td>0</td>\n",
              "      <td>799794</td>\n",
              "    </tr>\n",
              "    <tr>\n",
              "      <th>...</th>\n",
              "      <td>...</td>\n",
              "      <td>...</td>\n",
              "      <td>...</td>\n",
              "    </tr>\n",
              "    <tr>\n",
              "      <th>1048570</th>\n",
              "      <td>89703</td>\n",
              "      <td>0</td>\n",
              "      <td>911487</td>\n",
              "    </tr>\n",
              "    <tr>\n",
              "      <th>1048571</th>\n",
              "      <td>89703</td>\n",
              "      <td>1</td>\n",
              "      <td>911487</td>\n",
              "    </tr>\n",
              "    <tr>\n",
              "      <th>1048572</th>\n",
              "      <td>89703</td>\n",
              "      <td>0</td>\n",
              "      <td>413885</td>\n",
              "    </tr>\n",
              "    <tr>\n",
              "      <th>1048573</th>\n",
              "      <td>89703</td>\n",
              "      <td>0</td>\n",
              "      <td>911487</td>\n",
              "    </tr>\n",
              "    <tr>\n",
              "      <th>1048574</th>\n",
              "      <td>89703</td>\n",
              "      <td>0</td>\n",
              "      <td>334668</td>\n",
              "    </tr>\n",
              "  </tbody>\n",
              "</table>\n",
              "<p>1048575 rows × 3 columns</p>\n",
              "</div>\n",
              "      <button class=\"colab-df-convert\" onclick=\"convertToInteractive('df-19551f5c-1f95-491e-810e-0f0fe62e9a43')\"\n",
              "              title=\"Convert this dataframe to an interactive table.\"\n",
              "              style=\"display:none;\">\n",
              "        \n",
              "  <svg xmlns=\"http://www.w3.org/2000/svg\" height=\"24px\"viewBox=\"0 0 24 24\"\n",
              "       width=\"24px\">\n",
              "    <path d=\"M0 0h24v24H0V0z\" fill=\"none\"/>\n",
              "    <path d=\"M18.56 5.44l.94 2.06.94-2.06 2.06-.94-2.06-.94-.94-2.06-.94 2.06-2.06.94zm-11 1L8.5 8.5l.94-2.06 2.06-.94-2.06-.94L8.5 2.5l-.94 2.06-2.06.94zm10 10l.94 2.06.94-2.06 2.06-.94-2.06-.94-.94-2.06-.94 2.06-2.06.94z\"/><path d=\"M17.41 7.96l-1.37-1.37c-.4-.4-.92-.59-1.43-.59-.52 0-1.04.2-1.43.59L10.3 9.45l-7.72 7.72c-.78.78-.78 2.05 0 2.83L4 21.41c.39.39.9.59 1.41.59.51 0 1.02-.2 1.41-.59l7.78-7.78 2.81-2.81c.8-.78.8-2.07 0-2.86zM5.41 20L4 18.59l7.72-7.72 1.47 1.35L5.41 20z\"/>\n",
              "  </svg>\n",
              "      </button>\n",
              "      \n",
              "  <style>\n",
              "    .colab-df-container {\n",
              "      display:flex;\n",
              "      flex-wrap:wrap;\n",
              "      gap: 12px;\n",
              "    }\n",
              "\n",
              "    .colab-df-convert {\n",
              "      background-color: #E8F0FE;\n",
              "      border: none;\n",
              "      border-radius: 50%;\n",
              "      cursor: pointer;\n",
              "      display: none;\n",
              "      fill: #1967D2;\n",
              "      height: 32px;\n",
              "      padding: 0 0 0 0;\n",
              "      width: 32px;\n",
              "    }\n",
              "\n",
              "    .colab-df-convert:hover {\n",
              "      background-color: #E2EBFA;\n",
              "      box-shadow: 0px 1px 2px rgba(60, 64, 67, 0.3), 0px 1px 3px 1px rgba(60, 64, 67, 0.15);\n",
              "      fill: #174EA6;\n",
              "    }\n",
              "\n",
              "    [theme=dark] .colab-df-convert {\n",
              "      background-color: #3B4455;\n",
              "      fill: #D2E3FC;\n",
              "    }\n",
              "\n",
              "    [theme=dark] .colab-df-convert:hover {\n",
              "      background-color: #434B5C;\n",
              "      box-shadow: 0px 1px 3px 1px rgba(0, 0, 0, 0.15);\n",
              "      filter: drop-shadow(0px 1px 2px rgba(0, 0, 0, 0.3));\n",
              "      fill: #FFFFFF;\n",
              "    }\n",
              "  </style>\n",
              "\n",
              "      <script>\n",
              "        const buttonEl =\n",
              "          document.querySelector('#df-19551f5c-1f95-491e-810e-0f0fe62e9a43 button.colab-df-convert');\n",
              "        buttonEl.style.display =\n",
              "          google.colab.kernel.accessAllowed ? 'block' : 'none';\n",
              "\n",
              "        async function convertToInteractive(key) {\n",
              "          const element = document.querySelector('#df-19551f5c-1f95-491e-810e-0f0fe62e9a43');\n",
              "          const dataTable =\n",
              "            await google.colab.kernel.invokeFunction('convertToInteractive',\n",
              "                                                     [key], {});\n",
              "          if (!dataTable) return;\n",
              "\n",
              "          const docLinkHtml = 'Like what you see? Visit the ' +\n",
              "            '<a target=\"_blank\" href=https://colab.research.google.com/notebooks/data_table.ipynb>data table notebook</a>'\n",
              "            + ' to learn more about interactive tables.';\n",
              "          element.innerHTML = '';\n",
              "          dataTable['output_type'] = 'display_data';\n",
              "          await google.colab.output.renderOutput(dataTable, element);\n",
              "          const docLink = document.createElement('div');\n",
              "          docLink.innerHTML = docLinkHtml;\n",
              "          element.appendChild(docLink);\n",
              "        }\n",
              "      </script>\n",
              "    </div>\n",
              "  </div>\n",
              "  "
            ]
          },
          "metadata": {},
          "execution_count": 83
        }
      ]
    },
    {
      "cell_type": "code",
      "source": [],
      "metadata": {
        "id": "nRhM2Bj5H5cM"
      },
      "execution_count": 83,
      "outputs": []
    }
  ],
  "metadata": {
    "colab": {
      "provenance": [],
      "authorship_tag": "ABX9TyNOW3pLc7UYAjgGWkl1kAN5",
      "include_colab_link": true
    },
    "kernelspec": {
      "display_name": "Python 3",
      "name": "python3"
    },
    "language_info": {
      "name": "python"
    }
  },
  "nbformat": 4,
  "nbformat_minor": 0
}