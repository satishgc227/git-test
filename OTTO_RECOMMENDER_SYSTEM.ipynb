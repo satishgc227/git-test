{
  "nbformat": 4,
  "nbformat_minor": 0,
  "metadata": {
    "colab": {
      "provenance": [],
      "include_colab_link": true
    },
    "kernelspec": {
      "name": "python3",
      "display_name": "Python 3"
    },
    "language_info": {
      "name": "python"
    },
    "accelerator": "GPU",
    "gpuClass": "standard"
  },
  "cells": [
    {
      "cell_type": "markdown",
      "metadata": {
        "id": "view-in-github",
        "colab_type": "text"
      },
      "source": [
        "<a href=\"https://colab.research.google.com/github/satishgc227/git-test/blob/master/OTTO_RECOMMENDER_SYSTEM.ipynb\" target=\"_parent\"><img src=\"https://colab.research.google.com/assets/colab-badge.svg\" alt=\"Open In Colab\"/></a>"
      ]
    },
    {
      "cell_type": "markdown",
      "source": [
        "Task overview :\n",
        "The aim of this competition is to predict e-commerce clicks, cart additions, and orders. You'll build a multi-objective recommender system based on previous events in a user session.\n",
        "\n",
        "Current recommender systems consist of various models with different approaches, ranging from simple matrix factorization to a transformer-type deep neural network. However, no single model exists that can simultaneously optimize multiple objectives. In this competition, you’ll build a single entry to predict click-through, add-to-cart, and conversion rates based on previous same-session events."
      ],
      "metadata": {
        "id": "D-YIY2INAH92"
      }
    },
    {
      "cell_type": "markdown",
      "source": [
        "Import libraries:"
      ],
      "metadata": {
        "id": "GoZbku3qDXRn"
      }
    },
    {
      "cell_type": "code",
      "source": [
        "import numpy as np\n",
        "import pandas as pd\n",
        "import matplotlib.pyplot as plt\n",
        "import seaborn as sns\n",
        "\n",
        "import sys"
      ],
      "metadata": {
        "id": "ceXLEethAKrz"
      },
      "execution_count": 2,
      "outputs": []
    },
    {
      "cell_type": "code",
      "source": [
        "#!pip install zipfile36"
      ],
      "metadata": {
        "id": "a0HYC8UsNRM-"
      },
      "execution_count": 3,
      "outputs": []
    },
    {
      "cell_type": "code",
      "source": [
        "# if sys.version_info >= (3, 6):\n",
        "#     import zipfile\n",
        "# else:\n",
        "#     import zipfile36 as zipfile\n",
        "\n",
        "\n",
        "# file_name=\"otto-recommender-system.zip\""
      ],
      "metadata": {
        "id": "CXvxe9QTKnhk"
      },
      "execution_count": 4,
      "outputs": []
    },
    {
      "cell_type": "code",
      "source": [
        "# # opening the zip file in READ mode\n",
        "# with zipfile(file_name, 'r') as zip:\n",
        "#     # printing all the contents of the zip file\n",
        "#     zip.printdir()\n",
        "  \n",
        "#     # extracting all the files\n",
        "#     print('Extracting all the files now...')\n",
        "#     zip.extractall()\n",
        "#     print('Done!')"
      ],
      "metadata": {
        "id": "GR4c2jVCN_gU"
      },
      "execution_count": 5,
      "outputs": []
    },
    {
      "cell_type": "code",
      "source": [
        "from google.colab import drive\n",
        "drive.mount('/content/drive')"
      ],
      "metadata": {
        "colab": {
          "base_uri": "https://localhost:8080/"
        },
        "id": "O_mU4ycnaLqd",
        "outputId": "1dbaa787-28cc-46d7-8584-bd8e1da2f635"
      },
      "execution_count": 6,
      "outputs": [
        {
          "output_type": "stream",
          "name": "stdout",
          "text": [
            "Mounted at /content/drive\n"
          ]
        }
      ]
    },
    {
      "cell_type": "code",
      "source": [
        "df=pd.read_csv(\"/content/traian csv.csv\")"
      ],
      "metadata": {
        "id": "tm6umWJicGv5"
      },
      "execution_count": 7,
      "outputs": []
    },
    {
      "cell_type": "code",
      "source": [
        "df"
      ],
      "metadata": {
        "colab": {
          "base_uri": "https://localhost:8080/",
          "height": 423
        },
        "id": "5jDVDEyDctKJ",
        "outputId": "1547eb4c-ba81-499f-c8ca-75c5056cfe48"
      },
      "execution_count": 8,
      "outputs": [
        {
          "output_type": "execute_result",
          "data": {
            "text/plain": [
              "        session      aid            ts    type\n",
              "0       8000000   766953  1.660420e+12  clicks\n",
              "1       8000000  1586093  1.660420e+12  clicks\n",
              "2       8000000  1586093  1.660420e+12  clicks\n",
              "3       8000000   682970  1.660420e+12  clicks\n",
              "4       8000000   799794  1.660420e+12  clicks\n",
              "...         ...      ...           ...     ...\n",
              "416135  8038822   956142  1.661710e+12   carts\n",
              "416136  8038822   956142  1.661710e+12  clicks\n",
              "416137  8038823  1228211  1.660430e+12  clicks\n",
              "416138  8038823  1720152  1.660430e+12  clicks\n",
              "416139  8038823       95           NaN     NaN\n",
              "\n",
              "[416140 rows x 4 columns]"
            ],
            "text/html": [
              "\n",
              "  <div id=\"df-c258851a-96b4-4cec-aa0e-4e42de8ec8dc\">\n",
              "    <div class=\"colab-df-container\">\n",
              "      <div>\n",
              "<style scoped>\n",
              "    .dataframe tbody tr th:only-of-type {\n",
              "        vertical-align: middle;\n",
              "    }\n",
              "\n",
              "    .dataframe tbody tr th {\n",
              "        vertical-align: top;\n",
              "    }\n",
              "\n",
              "    .dataframe thead th {\n",
              "        text-align: right;\n",
              "    }\n",
              "</style>\n",
              "<table border=\"1\" class=\"dataframe\">\n",
              "  <thead>\n",
              "    <tr style=\"text-align: right;\">\n",
              "      <th></th>\n",
              "      <th>session</th>\n",
              "      <th>aid</th>\n",
              "      <th>ts</th>\n",
              "      <th>type</th>\n",
              "    </tr>\n",
              "  </thead>\n",
              "  <tbody>\n",
              "    <tr>\n",
              "      <th>0</th>\n",
              "      <td>8000000</td>\n",
              "      <td>766953</td>\n",
              "      <td>1.660420e+12</td>\n",
              "      <td>clicks</td>\n",
              "    </tr>\n",
              "    <tr>\n",
              "      <th>1</th>\n",
              "      <td>8000000</td>\n",
              "      <td>1586093</td>\n",
              "      <td>1.660420e+12</td>\n",
              "      <td>clicks</td>\n",
              "    </tr>\n",
              "    <tr>\n",
              "      <th>2</th>\n",
              "      <td>8000000</td>\n",
              "      <td>1586093</td>\n",
              "      <td>1.660420e+12</td>\n",
              "      <td>clicks</td>\n",
              "    </tr>\n",
              "    <tr>\n",
              "      <th>3</th>\n",
              "      <td>8000000</td>\n",
              "      <td>682970</td>\n",
              "      <td>1.660420e+12</td>\n",
              "      <td>clicks</td>\n",
              "    </tr>\n",
              "    <tr>\n",
              "      <th>4</th>\n",
              "      <td>8000000</td>\n",
              "      <td>799794</td>\n",
              "      <td>1.660420e+12</td>\n",
              "      <td>clicks</td>\n",
              "    </tr>\n",
              "    <tr>\n",
              "      <th>...</th>\n",
              "      <td>...</td>\n",
              "      <td>...</td>\n",
              "      <td>...</td>\n",
              "      <td>...</td>\n",
              "    </tr>\n",
              "    <tr>\n",
              "      <th>416135</th>\n",
              "      <td>8038822</td>\n",
              "      <td>956142</td>\n",
              "      <td>1.661710e+12</td>\n",
              "      <td>carts</td>\n",
              "    </tr>\n",
              "    <tr>\n",
              "      <th>416136</th>\n",
              "      <td>8038822</td>\n",
              "      <td>956142</td>\n",
              "      <td>1.661710e+12</td>\n",
              "      <td>clicks</td>\n",
              "    </tr>\n",
              "    <tr>\n",
              "      <th>416137</th>\n",
              "      <td>8038823</td>\n",
              "      <td>1228211</td>\n",
              "      <td>1.660430e+12</td>\n",
              "      <td>clicks</td>\n",
              "    </tr>\n",
              "    <tr>\n",
              "      <th>416138</th>\n",
              "      <td>8038823</td>\n",
              "      <td>1720152</td>\n",
              "      <td>1.660430e+12</td>\n",
              "      <td>clicks</td>\n",
              "    </tr>\n",
              "    <tr>\n",
              "      <th>416139</th>\n",
              "      <td>8038823</td>\n",
              "      <td>95</td>\n",
              "      <td>NaN</td>\n",
              "      <td>NaN</td>\n",
              "    </tr>\n",
              "  </tbody>\n",
              "</table>\n",
              "<p>416140 rows × 4 columns</p>\n",
              "</div>\n",
              "      <button class=\"colab-df-convert\" onclick=\"convertToInteractive('df-c258851a-96b4-4cec-aa0e-4e42de8ec8dc')\"\n",
              "              title=\"Convert this dataframe to an interactive table.\"\n",
              "              style=\"display:none;\">\n",
              "        \n",
              "  <svg xmlns=\"http://www.w3.org/2000/svg\" height=\"24px\"viewBox=\"0 0 24 24\"\n",
              "       width=\"24px\">\n",
              "    <path d=\"M0 0h24v24H0V0z\" fill=\"none\"/>\n",
              "    <path d=\"M18.56 5.44l.94 2.06.94-2.06 2.06-.94-2.06-.94-.94-2.06-.94 2.06-2.06.94zm-11 1L8.5 8.5l.94-2.06 2.06-.94-2.06-.94L8.5 2.5l-.94 2.06-2.06.94zm10 10l.94 2.06.94-2.06 2.06-.94-2.06-.94-.94-2.06-.94 2.06-2.06.94z\"/><path d=\"M17.41 7.96l-1.37-1.37c-.4-.4-.92-.59-1.43-.59-.52 0-1.04.2-1.43.59L10.3 9.45l-7.72 7.72c-.78.78-.78 2.05 0 2.83L4 21.41c.39.39.9.59 1.41.59.51 0 1.02-.2 1.41-.59l7.78-7.78 2.81-2.81c.8-.78.8-2.07 0-2.86zM5.41 20L4 18.59l7.72-7.72 1.47 1.35L5.41 20z\"/>\n",
              "  </svg>\n",
              "      </button>\n",
              "      \n",
              "  <style>\n",
              "    .colab-df-container {\n",
              "      display:flex;\n",
              "      flex-wrap:wrap;\n",
              "      gap: 12px;\n",
              "    }\n",
              "\n",
              "    .colab-df-convert {\n",
              "      background-color: #E8F0FE;\n",
              "      border: none;\n",
              "      border-radius: 50%;\n",
              "      cursor: pointer;\n",
              "      display: none;\n",
              "      fill: #1967D2;\n",
              "      height: 32px;\n",
              "      padding: 0 0 0 0;\n",
              "      width: 32px;\n",
              "    }\n",
              "\n",
              "    .colab-df-convert:hover {\n",
              "      background-color: #E2EBFA;\n",
              "      box-shadow: 0px 1px 2px rgba(60, 64, 67, 0.3), 0px 1px 3px 1px rgba(60, 64, 67, 0.15);\n",
              "      fill: #174EA6;\n",
              "    }\n",
              "\n",
              "    [theme=dark] .colab-df-convert {\n",
              "      background-color: #3B4455;\n",
              "      fill: #D2E3FC;\n",
              "    }\n",
              "\n",
              "    [theme=dark] .colab-df-convert:hover {\n",
              "      background-color: #434B5C;\n",
              "      box-shadow: 0px 1px 3px 1px rgba(0, 0, 0, 0.15);\n",
              "      filter: drop-shadow(0px 1px 2px rgba(0, 0, 0, 0.3));\n",
              "      fill: #FFFFFF;\n",
              "    }\n",
              "  </style>\n",
              "\n",
              "      <script>\n",
              "        const buttonEl =\n",
              "          document.querySelector('#df-c258851a-96b4-4cec-aa0e-4e42de8ec8dc button.colab-df-convert');\n",
              "        buttonEl.style.display =\n",
              "          google.colab.kernel.accessAllowed ? 'block' : 'none';\n",
              "\n",
              "        async function convertToInteractive(key) {\n",
              "          const element = document.querySelector('#df-c258851a-96b4-4cec-aa0e-4e42de8ec8dc');\n",
              "          const dataTable =\n",
              "            await google.colab.kernel.invokeFunction('convertToInteractive',\n",
              "                                                     [key], {});\n",
              "          if (!dataTable) return;\n",
              "\n",
              "          const docLinkHtml = 'Like what you see? Visit the ' +\n",
              "            '<a target=\"_blank\" href=https://colab.research.google.com/notebooks/data_table.ipynb>data table notebook</a>'\n",
              "            + ' to learn more about interactive tables.';\n",
              "          element.innerHTML = '';\n",
              "          dataTable['output_type'] = 'display_data';\n",
              "          await google.colab.output.renderOutput(dataTable, element);\n",
              "          const docLink = document.createElement('div');\n",
              "          docLink.innerHTML = docLinkHtml;\n",
              "          element.appendChild(docLink);\n",
              "        }\n",
              "      </script>\n",
              "    </div>\n",
              "  </div>\n",
              "  "
            ]
          },
          "metadata": {},
          "execution_count": 8
        }
      ]
    },
    {
      "cell_type": "code",
      "source": [],
      "metadata": {
        "id": "un6nXfQ7c6Ql"
      },
      "execution_count": 8,
      "outputs": []
    },
    {
      "cell_type": "markdown",
      "source": [
        "Data preprocessing:"
      ],
      "metadata": {
        "id": "bkoo64XbeBzv"
      }
    },
    {
      "cell_type": "code",
      "source": [
        "df.isnull().sum()"
      ],
      "metadata": {
        "colab": {
          "base_uri": "https://localhost:8080/"
        },
        "id": "EpZwxivjeD8Z",
        "outputId": "ca81692f-02aa-4b0a-82f2-2e25f47e5180"
      },
      "execution_count": 9,
      "outputs": [
        {
          "output_type": "execute_result",
          "data": {
            "text/plain": [
              "session    0\n",
              "aid        0\n",
              "ts         1\n",
              "type       1\n",
              "dtype: int64"
            ]
          },
          "metadata": {},
          "execution_count": 9
        }
      ]
    },
    {
      "cell_type": "code",
      "source": [
        "df.dropna()"
      ],
      "metadata": {
        "colab": {
          "base_uri": "https://localhost:8080/",
          "height": 423
        },
        "id": "ZOvSSLQ-eKEO",
        "outputId": "da4cf3bd-c234-4c01-f35c-25e6ff8c15f2"
      },
      "execution_count": 10,
      "outputs": [
        {
          "output_type": "execute_result",
          "data": {
            "text/plain": [
              "        session      aid            ts    type\n",
              "0       8000000   766953  1.660420e+12  clicks\n",
              "1       8000000  1586093  1.660420e+12  clicks\n",
              "2       8000000  1586093  1.660420e+12  clicks\n",
              "3       8000000   682970  1.660420e+12  clicks\n",
              "4       8000000   799794  1.660420e+12  clicks\n",
              "...         ...      ...           ...     ...\n",
              "416134  8038822   956142  1.661710e+12  clicks\n",
              "416135  8038822   956142  1.661710e+12   carts\n",
              "416136  8038822   956142  1.661710e+12  clicks\n",
              "416137  8038823  1228211  1.660430e+12  clicks\n",
              "416138  8038823  1720152  1.660430e+12  clicks\n",
              "\n",
              "[416139 rows x 4 columns]"
            ],
            "text/html": [
              "\n",
              "  <div id=\"df-2a3da4ac-7ab5-4fbc-b611-6f39f28c942e\">\n",
              "    <div class=\"colab-df-container\">\n",
              "      <div>\n",
              "<style scoped>\n",
              "    .dataframe tbody tr th:only-of-type {\n",
              "        vertical-align: middle;\n",
              "    }\n",
              "\n",
              "    .dataframe tbody tr th {\n",
              "        vertical-align: top;\n",
              "    }\n",
              "\n",
              "    .dataframe thead th {\n",
              "        text-align: right;\n",
              "    }\n",
              "</style>\n",
              "<table border=\"1\" class=\"dataframe\">\n",
              "  <thead>\n",
              "    <tr style=\"text-align: right;\">\n",
              "      <th></th>\n",
              "      <th>session</th>\n",
              "      <th>aid</th>\n",
              "      <th>ts</th>\n",
              "      <th>type</th>\n",
              "    </tr>\n",
              "  </thead>\n",
              "  <tbody>\n",
              "    <tr>\n",
              "      <th>0</th>\n",
              "      <td>8000000</td>\n",
              "      <td>766953</td>\n",
              "      <td>1.660420e+12</td>\n",
              "      <td>clicks</td>\n",
              "    </tr>\n",
              "    <tr>\n",
              "      <th>1</th>\n",
              "      <td>8000000</td>\n",
              "      <td>1586093</td>\n",
              "      <td>1.660420e+12</td>\n",
              "      <td>clicks</td>\n",
              "    </tr>\n",
              "    <tr>\n",
              "      <th>2</th>\n",
              "      <td>8000000</td>\n",
              "      <td>1586093</td>\n",
              "      <td>1.660420e+12</td>\n",
              "      <td>clicks</td>\n",
              "    </tr>\n",
              "    <tr>\n",
              "      <th>3</th>\n",
              "      <td>8000000</td>\n",
              "      <td>682970</td>\n",
              "      <td>1.660420e+12</td>\n",
              "      <td>clicks</td>\n",
              "    </tr>\n",
              "    <tr>\n",
              "      <th>4</th>\n",
              "      <td>8000000</td>\n",
              "      <td>799794</td>\n",
              "      <td>1.660420e+12</td>\n",
              "      <td>clicks</td>\n",
              "    </tr>\n",
              "    <tr>\n",
              "      <th>...</th>\n",
              "      <td>...</td>\n",
              "      <td>...</td>\n",
              "      <td>...</td>\n",
              "      <td>...</td>\n",
              "    </tr>\n",
              "    <tr>\n",
              "      <th>416134</th>\n",
              "      <td>8038822</td>\n",
              "      <td>956142</td>\n",
              "      <td>1.661710e+12</td>\n",
              "      <td>clicks</td>\n",
              "    </tr>\n",
              "    <tr>\n",
              "      <th>416135</th>\n",
              "      <td>8038822</td>\n",
              "      <td>956142</td>\n",
              "      <td>1.661710e+12</td>\n",
              "      <td>carts</td>\n",
              "    </tr>\n",
              "    <tr>\n",
              "      <th>416136</th>\n",
              "      <td>8038822</td>\n",
              "      <td>956142</td>\n",
              "      <td>1.661710e+12</td>\n",
              "      <td>clicks</td>\n",
              "    </tr>\n",
              "    <tr>\n",
              "      <th>416137</th>\n",
              "      <td>8038823</td>\n",
              "      <td>1228211</td>\n",
              "      <td>1.660430e+12</td>\n",
              "      <td>clicks</td>\n",
              "    </tr>\n",
              "    <tr>\n",
              "      <th>416138</th>\n",
              "      <td>8038823</td>\n",
              "      <td>1720152</td>\n",
              "      <td>1.660430e+12</td>\n",
              "      <td>clicks</td>\n",
              "    </tr>\n",
              "  </tbody>\n",
              "</table>\n",
              "<p>416139 rows × 4 columns</p>\n",
              "</div>\n",
              "      <button class=\"colab-df-convert\" onclick=\"convertToInteractive('df-2a3da4ac-7ab5-4fbc-b611-6f39f28c942e')\"\n",
              "              title=\"Convert this dataframe to an interactive table.\"\n",
              "              style=\"display:none;\">\n",
              "        \n",
              "  <svg xmlns=\"http://www.w3.org/2000/svg\" height=\"24px\"viewBox=\"0 0 24 24\"\n",
              "       width=\"24px\">\n",
              "    <path d=\"M0 0h24v24H0V0z\" fill=\"none\"/>\n",
              "    <path d=\"M18.56 5.44l.94 2.06.94-2.06 2.06-.94-2.06-.94-.94-2.06-.94 2.06-2.06.94zm-11 1L8.5 8.5l.94-2.06 2.06-.94-2.06-.94L8.5 2.5l-.94 2.06-2.06.94zm10 10l.94 2.06.94-2.06 2.06-.94-2.06-.94-.94-2.06-.94 2.06-2.06.94z\"/><path d=\"M17.41 7.96l-1.37-1.37c-.4-.4-.92-.59-1.43-.59-.52 0-1.04.2-1.43.59L10.3 9.45l-7.72 7.72c-.78.78-.78 2.05 0 2.83L4 21.41c.39.39.9.59 1.41.59.51 0 1.02-.2 1.41-.59l7.78-7.78 2.81-2.81c.8-.78.8-2.07 0-2.86zM5.41 20L4 18.59l7.72-7.72 1.47 1.35L5.41 20z\"/>\n",
              "  </svg>\n",
              "      </button>\n",
              "      \n",
              "  <style>\n",
              "    .colab-df-container {\n",
              "      display:flex;\n",
              "      flex-wrap:wrap;\n",
              "      gap: 12px;\n",
              "    }\n",
              "\n",
              "    .colab-df-convert {\n",
              "      background-color: #E8F0FE;\n",
              "      border: none;\n",
              "      border-radius: 50%;\n",
              "      cursor: pointer;\n",
              "      display: none;\n",
              "      fill: #1967D2;\n",
              "      height: 32px;\n",
              "      padding: 0 0 0 0;\n",
              "      width: 32px;\n",
              "    }\n",
              "\n",
              "    .colab-df-convert:hover {\n",
              "      background-color: #E2EBFA;\n",
              "      box-shadow: 0px 1px 2px rgba(60, 64, 67, 0.3), 0px 1px 3px 1px rgba(60, 64, 67, 0.15);\n",
              "      fill: #174EA6;\n",
              "    }\n",
              "\n",
              "    [theme=dark] .colab-df-convert {\n",
              "      background-color: #3B4455;\n",
              "      fill: #D2E3FC;\n",
              "    }\n",
              "\n",
              "    [theme=dark] .colab-df-convert:hover {\n",
              "      background-color: #434B5C;\n",
              "      box-shadow: 0px 1px 3px 1px rgba(0, 0, 0, 0.15);\n",
              "      filter: drop-shadow(0px 1px 2px rgba(0, 0, 0, 0.3));\n",
              "      fill: #FFFFFF;\n",
              "    }\n",
              "  </style>\n",
              "\n",
              "      <script>\n",
              "        const buttonEl =\n",
              "          document.querySelector('#df-2a3da4ac-7ab5-4fbc-b611-6f39f28c942e button.colab-df-convert');\n",
              "        buttonEl.style.display =\n",
              "          google.colab.kernel.accessAllowed ? 'block' : 'none';\n",
              "\n",
              "        async function convertToInteractive(key) {\n",
              "          const element = document.querySelector('#df-2a3da4ac-7ab5-4fbc-b611-6f39f28c942e');\n",
              "          const dataTable =\n",
              "            await google.colab.kernel.invokeFunction('convertToInteractive',\n",
              "                                                     [key], {});\n",
              "          if (!dataTable) return;\n",
              "\n",
              "          const docLinkHtml = 'Like what you see? Visit the ' +\n",
              "            '<a target=\"_blank\" href=https://colab.research.google.com/notebooks/data_table.ipynb>data table notebook</a>'\n",
              "            + ' to learn more about interactive tables.';\n",
              "          element.innerHTML = '';\n",
              "          dataTable['output_type'] = 'display_data';\n",
              "          await google.colab.output.renderOutput(dataTable, element);\n",
              "          const docLink = document.createElement('div');\n",
              "          docLink.innerHTML = docLinkHtml;\n",
              "          element.appendChild(docLink);\n",
              "        }\n",
              "      </script>\n",
              "    </div>\n",
              "  </div>\n",
              "  "
            ]
          },
          "metadata": {},
          "execution_count": 10
        }
      ]
    },
    {
      "cell_type": "code",
      "source": [
        "df.info()"
      ],
      "metadata": {
        "colab": {
          "base_uri": "https://localhost:8080/"
        },
        "id": "dd88Tn8ReuLT",
        "outputId": "f94ad3dd-e43a-4b2d-a0bd-da0209f8ea8d"
      },
      "execution_count": 11,
      "outputs": [
        {
          "output_type": "stream",
          "name": "stdout",
          "text": [
            "<class 'pandas.core.frame.DataFrame'>\n",
            "RangeIndex: 416140 entries, 0 to 416139\n",
            "Data columns (total 4 columns):\n",
            " #   Column   Non-Null Count   Dtype  \n",
            "---  ------   --------------   -----  \n",
            " 0   session  416140 non-null  int64  \n",
            " 1   aid      416140 non-null  int64  \n",
            " 2   ts       416139 non-null  float64\n",
            " 3   type     416139 non-null  object \n",
            "dtypes: float64(1), int64(2), object(1)\n",
            "memory usage: 12.7+ MB\n"
          ]
        }
      ]
    },
    {
      "cell_type": "code",
      "source": [
        "# import json\n",
        "# f=open(\"/content/test.jsonl\")\n",
        "# chunks=f.read()\n",
        "# chunks"
      ],
      "metadata": {
        "id": "cy-sp8sBe1PU"
      },
      "execution_count": 12,
      "outputs": []
    },
    {
      "cell_type": "code",
      "source": [
        "#print(chunks)"
      ],
      "metadata": {
        "id": "Q1vpnVrGdHe3"
      },
      "execution_count": 13,
      "outputs": []
    },
    {
      "cell_type": "code",
      "source": [
        "# import pandas as pd\n",
        "# import json\n",
        "# import glob\n",
        "# from pandas.io.json import json_normalize\n",
        "\n",
        "# json_files = glob.glob(\"*.json\")\n",
        "# dfs = []\n",
        "# for file in json_files:\n",
        "#     with open(\"/content/test.jsonl\") as f:\n",
        "#         for line in f.readlines():\n",
        "#             df = pd.json_normalize(json.loads(line))\n",
        "#             list_= ['','Item.metadata.M.timestamp.S','Item.sensor.M.celcius.N','Item.sensor.M.water.N']\n",
        "#             df = df.loc[:, df.columns.isin(list_)]\n",
        "#             dfs.append(df)\n",
        "# df_combine = pd.concat(dfs, sort=False)\n",
        "# df_combine.to_csv('json_to_raw.csv',index= None)"
      ],
      "metadata": {
        "id": "Umx3L2h-bJqL"
      },
      "execution_count": 14,
      "outputs": []
    },
    {
      "cell_type": "code",
      "source": [
        "# import zipfile\n",
        "# from google.colab import drive\n",
        "\n",
        "# drive.mount('/content/drive/')\n",
        "\n",
        "# zip_ref = zipfile.ZipFile(\"/content/drive/Othercomputers/My Laptop/Downloads/train.jsonl.zip\", 'r')\n",
        "# zip_ref.extractall(\"/content/drive/Othercomputers/My Laptop/Downloads/tmp\")\n",
        "# zip_ref.close()"
      ],
      "metadata": {
        "id": "9ahrpTwOd1hl"
      },
      "execution_count": 15,
      "outputs": []
    },
    {
      "cell_type": "code",
      "source": [
        "# import json\n",
        "# dd=open(\"/content/drive/Othercomputers/My Laptop/Downloads/tmp/train.jsonl\")"
      ],
      "metadata": {
        "id": "nr6M9bcZgNWa"
      },
      "execution_count": 16,
      "outputs": []
    },
    {
      "cell_type": "code",
      "source": [
        "# import pandas as pd\n",
        "# chunks=pd.read_json(dd,lines=True, chunksize=1000)"
      ],
      "metadata": {
        "id": "ovav04-xhYZu"
      },
      "execution_count": 17,
      "outputs": []
    },
    {
      "cell_type": "code",
      "source": [
        "#fg=pd.DataFrame(chunks)"
      ],
      "metadata": {
        "id": "0MQfTBPuikLU"
      },
      "execution_count": 18,
      "outputs": []
    },
    {
      "cell_type": "code",
      "source": [
        "df.shape"
      ],
      "metadata": {
        "id": "15oPwf0fivVf",
        "outputId": "c0893c48-b344-49fd-c3a8-aa8d406b6e3d",
        "colab": {
          "base_uri": "https://localhost:8080/"
        }
      },
      "execution_count": 19,
      "outputs": [
        {
          "output_type": "execute_result",
          "data": {
            "text/plain": [
              "(416140, 4)"
            ]
          },
          "metadata": {},
          "execution_count": 19
        }
      ]
    },
    {
      "cell_type": "code",
      "source": [
        "df['session'].unique()\n"
      ],
      "metadata": {
        "id": "z8jtgGvXhlqa",
        "outputId": "0c2462d7-984c-40bc-e9bd-8ed5bd9d894e",
        "colab": {
          "base_uri": "https://localhost:8080/"
        }
      },
      "execution_count": 20,
      "outputs": [
        {
          "output_type": "execute_result",
          "data": {
            "text/plain": [
              "array([8000000, 8000001, 8000002, ..., 8038821, 8038822, 8038823])"
            ]
          },
          "metadata": {},
          "execution_count": 20
        }
      ]
    },
    {
      "cell_type": "code",
      "source": [
        "df.session.unique().shape"
      ],
      "metadata": {
        "id": "pMfH5q4iTik5",
        "outputId": "a4642bd9-d5e2-4ac8-f8e4-b05206a6525a",
        "colab": {
          "base_uri": "https://localhost:8080/"
        }
      },
      "execution_count": 21,
      "outputs": [
        {
          "output_type": "execute_result",
          "data": {
            "text/plain": [
              "(38824,)"
            ]
          },
          "metadata": {},
          "execution_count": 21
        }
      ]
    },
    {
      "cell_type": "code",
      "source": [
        "s=df.groupby('session')['aid','ts','type'].count()\n",
        "print(s)"
      ],
      "metadata": {
        "id": "f7E2KUOPTmdH",
        "outputId": "320b3a55-5f8a-410b-da26-1116039eea40",
        "colab": {
          "base_uri": "https://localhost:8080/"
        }
      },
      "execution_count": 22,
      "outputs": [
        {
          "output_type": "stream",
          "name": "stdout",
          "text": [
            "         aid   ts  type\n",
            "session                \n",
            "8000000    6    6     6\n",
            "8000001    2    2     2\n",
            "8000002    7    7     7\n",
            "8000003    5    5     5\n",
            "8000004  151  151   151\n",
            "...      ...  ...   ...\n",
            "8038819    2    2     2\n",
            "8038820    2    2     2\n",
            "8038821   15   15    15\n",
            "8038822   46   46    46\n",
            "8038823    3    2     2\n",
            "\n",
            "[38824 rows x 3 columns]\n"
          ]
        },
        {
          "output_type": "stream",
          "name": "stderr",
          "text": [
            "/usr/local/lib/python3.7/dist-packages/ipykernel_launcher.py:1: FutureWarning: Indexing with multiple keys (implicitly converted to a tuple of keys) will be deprecated, use a list instead.\n",
            "  \"\"\"Entry point for launching an IPython kernel.\n"
          ]
        }
      ]
    },
    {
      "cell_type": "code",
      "source": [
        "df.ts"
      ],
      "metadata": {
        "id": "x92vjR39Tqw9",
        "outputId": "0dd089a2-f064-450f-a98f-854623304b8b",
        "colab": {
          "base_uri": "https://localhost:8080/"
        }
      },
      "execution_count": 23,
      "outputs": [
        {
          "output_type": "execute_result",
          "data": {
            "text/plain": [
              "0         1.660420e+12\n",
              "1         1.660420e+12\n",
              "2         1.660420e+12\n",
              "3         1.660420e+12\n",
              "4         1.660420e+12\n",
              "              ...     \n",
              "416135    1.661710e+12\n",
              "416136    1.661710e+12\n",
              "416137    1.660430e+12\n",
              "416138    1.660430e+12\n",
              "416139             NaN\n",
              "Name: ts, Length: 416140, dtype: float64"
            ]
          },
          "metadata": {},
          "execution_count": 23
        }
      ]
    },
    {
      "cell_type": "code",
      "source": [
        "import datetime\n",
        "d=df['ts'].max()\n",
        "f=df['ts'].min()\n",
        "f"
      ],
      "metadata": {
        "id": "dKNbcovbTwU4",
        "outputId": "06dd7ec4-7f97-4a97-9853-0359db2e0ae8",
        "colab": {
          "base_uri": "https://localhost:8080/"
        }
      },
      "execution_count": 24,
      "outputs": [
        {
          "output_type": "execute_result",
          "data": {
            "text/plain": [
              "1660420000000.0"
            ]
          },
          "metadata": {},
          "execution_count": 24
        }
      ]
    },
    {
      "cell_type": "code",
      "source": [
        "datetime.datetime.fromtimestamp(f/1000),datetime.datetime.fromtimestamp(d/1000)"
      ],
      "metadata": {
        "id": "DRnSGOkv1uyt",
        "outputId": "e26fe5d4-a9a5-4907-af34-e918dd993092",
        "colab": {
          "base_uri": "https://localhost:8080/"
        }
      },
      "execution_count": 25,
      "outputs": [
        {
          "output_type": "execute_result",
          "data": {
            "text/plain": [
              "(datetime.datetime(2022, 8, 13, 19, 46, 40),\n",
              " datetime.datetime(2022, 8, 28, 20, 53, 20))"
            ]
          },
          "metadata": {},
          "execution_count": 25
        }
      ]
    },
    {
      "cell_type": "code",
      "source": [
        "df['ts'].values"
      ],
      "metadata": {
        "id": "G9xzGH_o2CP-",
        "outputId": "97f3f4e6-dfa9-4c58-bd2a-b79dd649b18a",
        "colab": {
          "base_uri": "https://localhost:8080/"
        }
      },
      "execution_count": 26,
      "outputs": [
        {
          "output_type": "execute_result",
          "data": {
            "text/plain": [
              "array([1.66042e+12, 1.66042e+12, 1.66042e+12, ..., 1.66043e+12,\n",
              "       1.66043e+12,         nan])"
            ]
          },
          "metadata": {},
          "execution_count": 26
        }
      ]
    },
    {
      "cell_type": "code",
      "source": [
        "df['ts'].values[0]"
      ],
      "metadata": {
        "id": "_HP_YQgi3zvu",
        "outputId": "cd826531-565a-4c04-c9c5-bab4df74672f",
        "colab": {
          "base_uri": "https://localhost:8080/"
        }
      },
      "execution_count": 27,
      "outputs": [
        {
          "output_type": "execute_result",
          "data": {
            "text/plain": [
              "1660420000000.0"
            ]
          },
          "metadata": {},
          "execution_count": 27
        }
      ]
    },
    {
      "cell_type": "code",
      "source": [
        "session_duration = df.groupby('session').apply(lambda x: (x['ts'].values[-1] - x['ts'].values[0])/(1000*60*60))\n",
        "session_duration.max()"
      ],
      "metadata": {
        "id": "4aVZ_8QO4K88",
        "outputId": "76d190ec-608f-41af-d1e2-ceb2f6b0c0df",
        "colab": {
          "base_uri": "https://localhost:8080/"
        }
      },
      "execution_count": 28,
      "outputs": [
        {
          "output_type": "execute_result",
          "data": {
            "text/plain": [
              "361.1111111111111"
            ]
          },
          "metadata": {},
          "execution_count": 28
        }
      ]
    },
    {
      "cell_type": "code",
      "source": [],
      "metadata": {
        "id": "SvXGQQ5l92zG"
      },
      "execution_count": 28,
      "outputs": []
    },
    {
      "cell_type": "markdown",
      "source": [
        "Let's convert timestamp to the readable time:"
      ],
      "metadata": {
        "id": "U3-c9DU693ic"
      }
    },
    {
      "cell_type": "code",
      "source": [
        "df['ts']=pd.to_datetime(df['ts'])"
      ],
      "metadata": {
        "id": "DixAphMO-GIk"
      },
      "execution_count": 29,
      "outputs": []
    },
    {
      "cell_type": "code",
      "source": [
        "b=df['ts']"
      ],
      "metadata": {
        "id": "h2ZPVSAJ-aUJ"
      },
      "execution_count": 30,
      "outputs": []
    },
    {
      "cell_type": "code",
      "source": [
        "print(f'Years:{b.dt.year.unique()} , \\n Months\"{b.dt.month.unique()}, \\n Days:{b.dt.day.unique()} ')"
      ],
      "metadata": {
        "id": "bGH7tzA1-tLT",
        "outputId": "85190164-b487-4e9b-fcc1-24af2c693818",
        "colab": {
          "base_uri": "https://localhost:8080/"
        }
      },
      "execution_count": 31,
      "outputs": [
        {
          "output_type": "stream",
          "name": "stdout",
          "text": [
            "Years:[1970.   nan] , \n",
            " Months\"[ 1. nan], \n",
            " Days:[ 1. nan] \n"
          ]
        }
      ]
    },
    {
      "cell_type": "code",
      "source": [
        "df['ts_conv']=b\n"
      ],
      "metadata": {
        "id": "c95MRmQsAJji"
      },
      "execution_count": 32,
      "outputs": []
    },
    {
      "cell_type": "code",
      "source": [
        "df_grouped= df.groupby('session')['ts_conv'].agg([min,max])"
      ],
      "metadata": {
        "id": "M6FjjzY8ZSEo"
      },
      "execution_count": 33,
      "outputs": []
    },
    {
      "cell_type": "code",
      "source": [
        "df_grouped['diff']=df_grouped['max']-df_grouped['min']"
      ],
      "metadata": {
        "id": "8ePSmcDpZxra"
      },
      "execution_count": 34,
      "outputs": []
    },
    {
      "cell_type": "code",
      "source": [
        "df_grouped['diff']"
      ],
      "metadata": {
        "id": "ndH9lHG-aWX8",
        "outputId": "730f723d-4b10-47dc-d34c-031899b8eb0f",
        "colab": {
          "base_uri": "https://localhost:8080/"
        }
      },
      "execution_count": 35,
      "outputs": [
        {
          "output_type": "execute_result",
          "data": {
            "text/plain": [
              "session\n",
              "8000000          0 days 00:00:00\n",
              "8000001   0 days 00:00:00.680000\n",
              "8000002          0 days 00:00:00\n",
              "8000003   0 days 00:00:00.950000\n",
              "8000004   0 days 00:00:01.290000\n",
              "                   ...          \n",
              "8038819          0 days 00:00:00\n",
              "8038820          0 days 00:00:00\n",
              "8038821   0 days 00:00:01.290000\n",
              "8038822   0 days 00:00:01.280000\n",
              "8038823          0 days 00:00:00\n",
              "Name: diff, Length: 38824, dtype: timedelta64[ns]"
            ]
          },
          "metadata": {},
          "execution_count": 35
        }
      ]
    },
    {
      "cell_type": "code",
      "source": [
        "df_grouped['diff'].dt.days.sort_values().value_counts().plot(kind='bar', figsize=(10,8), title='Distribution of Session Lengths')\n",
        "plt.xlabel('Session Length [Days]')\n",
        "plt.ylabel('Number of Sessions')\n",
        "plt.show()"
      ],
      "metadata": {
        "id": "4btQmlc5cBJD",
        "outputId": "13bab735-af0b-48c1-96f3-4210a52bcb38",
        "colab": {
          "base_uri": "https://localhost:8080/",
          "height": 509
        }
      },
      "execution_count": 36,
      "outputs": [
        {
          "output_type": "display_data",
          "data": {
            "text/plain": [
              "<Figure size 720x576 with 1 Axes>"
            ],
            "image/png": "[encoded data removed]"
          },
          "metadata": {
            "needs_background": "light"
          }
        }
      ]
    },
    {
      "cell_type": "code",
      "source": [
        "idx_0=df_grouped.query('diff.dt.days==0').index.to_list()"
      ],
      "metadata": {
        "id": "twaw1Y-ReHt9"
      },
      "execution_count": 37,
      "outputs": []
    },
    {
      "cell_type": "code",
      "source": [
        "# ind_0"
      ],
      "metadata": {
        "id": "1GpmkTKCfz8s"
      },
      "execution_count": 38,
      "outputs": []
    },
    {
      "cell_type": "code",
      "source": [
        "import matplotlib.pyplot as plt\n",
        "\n",
        "\n",
        "df.groupby('session').size().plot.hist()\n"
      ],
      "metadata": {
        "id": "CM2MpTSRf6fh",
        "outputId": "5597ae96-b0c3-4dfe-ad2e-ecbc31d7743f",
        "colab": {
          "base_uri": "https://localhost:8080/",
          "height": 282
        }
      },
      "execution_count": 39,
      "outputs": [
        {
          "output_type": "execute_result",
          "data": {
            "text/plain": [
              "<matplotlib.axes._subplots.AxesSubplot at 0x7f089c0a3f10>"
            ]
          },
          "metadata": {},
          "execution_count": 39
        },
        {
          "output_type": "display_data",
          "data": {
            "text/plain": [
              "<Figure size 432x288 with 1 Axes>"
            ],
            "image/png": "[encoded data removed]"
          },
          "metadata": {
            "needs_background": "light"
          }
        }
      ]
    },
    {
      "cell_type": "code",
      "source": [
        "\n",
        "\n"
      ],
      "metadata": {
        "id": "J9ndRZmqB4ia"
      },
      "execution_count": 39,
      "outputs": []
    },
    {
      "cell_type": "code",
      "source": [
        "colors = ['tab:olive', 'tab:orange', 'tab:red']\n",
        "\n",
        "\n",
        "df.query('session in @idx_0').type.value_counts(normalize=False).plot(kind='bar', color=colors)\n"
      ],
      "metadata": {
        "id": "ITxT5IHtA98Z",
        "outputId": "073f4632-9e4a-4075-96f0-41cdb2a7fb40",
        "colab": {
          "base_uri": "https://localhost:8080/",
          "height": 307
        }
      },
      "execution_count": 40,
      "outputs": [
        {
          "output_type": "execute_result",
          "data": {
            "text/plain": [
              "<matplotlib.axes._subplots.AxesSubplot at 0x7f089b92ba90>"
            ]
          },
          "metadata": {},
          "execution_count": 40
        },
        {
          "output_type": "display_data",
          "data": {
            "text/plain": [
              "<Figure size 432x288 with 1 Axes>"
            ],
            "image/png": "[encoded data removed]"
          },
          "metadata": {
            "needs_background": "light"
          }
        }
      ]
    },
    {
      "cell_type": "code",
      "source": [
        "df.groupby('session').size().plot()"
      ],
      "metadata": {
        "id": "6LANCaIHBU6I",
        "outputId": "cb18eea7-5025-4065-c255-d9c4e6b4c12b",
        "colab": {
          "base_uri": "https://localhost:8080/",
          "height": 296
        }
      },
      "execution_count": 41,
      "outputs": [
        {
          "output_type": "execute_result",
          "data": {
            "text/plain": [
              "<matplotlib.axes._subplots.AxesSubplot at 0x7f089b8aac50>"
            ]
          },
          "metadata": {},
          "execution_count": 41
        },
        {
          "output_type": "display_data",
          "data": {
            "text/plain": [
              "<Figure size 432x288 with 1 Axes>"
            ],
            "image/png": "[encoded data removed]"
          },
          "metadata": {
            "needs_background": "light"
          }
        }
      ]
    },
    {
      "cell_type": "markdown",
      "source": [
        "Let us find the last actions in a session:\n"
      ],
      "metadata": {
        "id": "WpeK3PaWBVwf"
      }
    },
    {
      "cell_type": "code",
      "source": [
        "list_last = [i[-1] for i in df.groupby('session').agg({'type' : lambda x: list(x)}).type.to_list()]\n"
      ],
      "metadata": {
        "id": "eLnNOHzYBeQo"
      },
      "execution_count": 43,
      "outputs": []
    },
    {
      "cell_type": "code",
      "source": [
        "list_all = [item for sublist in df.groupby('session').agg({'type': lambda x: list(x)}).type.to_list() for item in sublist]   "
      ],
      "metadata": {
        "id": "2pP1a74X5E_M"
      },
      "execution_count": 49,
      "outputs": []
    },
    {
      "cell_type": "markdown",
      "source": [
        "Let's see how likely the session ends with order :\n"
      ],
      "metadata": {
        "id": "2E8-vevj68LK"
      }
    },
    {
      "cell_type": "code",
      "source": [
        "list_all.count('clicks'),list_all.count('orders'),list_all.count('carts')"
      ],
      "metadata": {
        "id": "4fGauhip7AZe",
        "outputId": "4ac5f414-31df-4187-c0e2-c93afa1bb813",
        "colab": {
          "base_uri": "https://localhost:8080/"
        }
      },
      "execution_count": 57,
      "outputs": [
        {
          "output_type": "execute_result",
          "data": {
            "text/plain": [
              "(382518, 6151, 27470)"
            ]
          },
          "metadata": {},
          "execution_count": 57
        }
      ]
    },
    {
      "cell_type": "code",
      "source": [
        "for i in ['clicks','orders','carts']:\n",
        "  print(f'it is {np.round((list_last.count(i)*len(list_all))/(list_all.count(i)*len(list_last)),1)} likely that the last actions were {i}')\n"
      ],
      "metadata": {
        "id": "SXnVR6BX95IE",
        "outputId": "286f332b-3d03-46a0-fa37-ace2d5c250ab",
        "colab": {
          "base_uri": "https://localhost:8080/"
        }
      },
      "execution_count": 66,
      "outputs": [
        {
          "output_type": "stream",
          "name": "stdout",
          "text": [
            "it is 1.0 likely that the last actions were clicks\n",
            "it is 1.6 likely that the last actions were orders\n",
            "it is 0.5 likely that the last actions were carts\n"
          ]
        }
      ]
    },
    {
      "cell_type": "markdown",
      "source": [
        "Hence it is likely that the session ends with half probability of carts but twice as that of orders."
      ],
      "metadata": {
        "id": "K4YSbr4eBpZn"
      }
    },
    {
      "cell_type": "code",
      "source": [],
      "metadata": {
        "id": "KHgStUKfB24U"
      },
      "execution_count": 72,
      "outputs": []
    },
    {
      "cell_type": "markdown",
      "source": [],
      "metadata": {
        "id": "9FMDXdj2GJMZ"
      }
    },
    {
      "cell_type": "markdown",
      "source": [
        "Building an LSTM to predict the future aids:"
      ],
      "metadata": {
        "id": "qB5ivrcsGJZS"
      }
    },
    {
      "cell_type": "code",
      "source": [
        "\n"
      ],
      "metadata": {
        "id": "1EINDSnRGO5w"
      },
      "execution_count": null,
      "outputs": []
    }
  ]
}